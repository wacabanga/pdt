{
 "cells": [
  {
   "cell_type": "code",
   "execution_count": 38,
   "metadata": {
    "collapsed": false
   },
   "outputs": [
    {
     "name": "stderr",
     "output_type": "stream",
     "text": [
      "[2017-03-26 00:21:42,039] Making new env: Breakout-v0\n"
     ]
    }
   ],
   "source": [
    "import gym\n",
    "import numpy as np\n",
    "import random\n",
    "from matplotlib import pyplot as plt\n",
    "\n",
    "batch_size = 10\n",
    "\n",
    "env = gym.make('Breakout-v0')\n",
    "actions = env.env.get_action_meanings() # list of actions\n",
    "  # action index corresponds to numerical actions in env.step\n",
    "\n",
    "# Output tensor dimensions\n",
    "num_actions = env.action_space.n\n",
    "screen_height = env.env.ale.getScreenDims()[1]\n",
    "screen_width = env.env.ale.getScreenDims()[0]\n",
    "output = np.zeros((batch_size, num_actions+1, screen_height, screen_width, 3))\n",
    "\n",
    "# Get image data\n",
    "for i in range(batch_size):\n",
    "    env.seed(random.randint(0,10e9)) #TODO: Might want to get data from later stages of game\n",
    "    env.reset()\n",
    "    screen = env.env.ale.getScreenRGB()[:, :, :3] # Initial screen\n",
    "    output[i][0] = screen\n",
    "\n",
    "    # Save screen after each action\n",
    "    #TODO: Select random action\n",
    "    for j in range(num_actions):\n",
    "        env.step(j)\n",
    "        screen = env.env.ale.getScreenRGB()[:, :, :3]\n",
    "        output[i][j+1] = screen\n"
   ]
  },
  {
   "cell_type": "code",
   "execution_count": 111,
   "metadata": {
    "collapsed": false
   },
   "outputs": [
    {
     "data": {
      "image/png": "[encoded data removed]",
      "text/plain": [
       "<matplotlib.figure.Figure at 0x10cf343c8>"
      ]
     },
     "metadata": {},
     "output_type": "display_data"
    }
   ],
   "source": [
    "o = output[0][6]\n",
    "o1 = o[:,:,[0,1,2]]\n",
    "plt.imshow(o1)\n",
    "plt.show()"
   ]
  },
  {
   "cell_type": "code",
   "execution_count": null,
   "metadata": {
    "collapsed": false
   },
   "outputs": [],
   "source": [
    "env = gym.make('MontezumaRevenge-v0')\n",
    "x = env.env.ale.getScreenRGB()[:, :, :3]\n",
    "plt.imshow(x)\n",
    "plt.show()"
   ]
  },
  {
   "cell_type": "code",
   "execution_count": null,
   "metadata": {
    "collapsed": false
   },
   "outputs": [],
   "source": []
  },
  {
   "cell_type": "code",
   "execution_count": null,
   "metadata": {
    "collapsed": true
   },
   "outputs": [],
   "source": []
  },
  {
   "cell_type": "code",
   "execution_count": null,
   "metadata": {
    "collapsed": true
   },
   "outputs": [],
   "source": []
  }
 ],
 "metadata": {
  "kernelspec": {
   "display_name": "Python 3",
   "language": "python",
   "name": "python3"
  }
 },
 "nbformat": 4,
 "nbformat_minor": 2
}
